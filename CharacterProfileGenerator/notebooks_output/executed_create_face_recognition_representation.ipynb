{
 "cells": [
  {
   "attachments": {},
   "cell_type": "markdown",
   "id": "6e938b79",
   "metadata": {
    "papermill": {
     "duration": 0.001003,
     "end_time": "2024-10-28T12:25:33.104383",
     "exception": false,
     "start_time": "2024-10-28T12:25:33.103380",
     "status": "completed"
    },
    "tags": []
   },
   "source": [
    "### Place 5 images in the Game/characters/character_name/images folder from 1.jpg to 5.jpg and one image in root directory named as test.jpg"
   ]
  },
  {
   "cell_type": "code",
   "execution_count": 1,
   "id": "4cf3405b",
   "metadata": {
    "execution": {
     "iopub.execute_input": "2024-10-28T12:25:33.107894Z",
     "iopub.status.busy": "2024-10-28T12:25:33.107894Z",
     "iopub.status.idle": "2024-10-28T12:25:49.240612Z",
     "shell.execute_reply": "2024-10-28T12:25:49.240612Z"
    },
    "papermill": {
     "duration": 16.136727,
     "end_time": "2024-10-28T12:25:49.242616",
     "exception": false,
     "start_time": "2024-10-28T12:25:33.105889",
     "status": "completed"
    },
    "tags": []
   },
   "outputs": [
    {
     "name": "stdout",
     "output_type": "stream",
     "text": [
      "WARNING:tensorflow:From C:\\Users\\samau\\OneDrive\\Desktop\\Interactive-LLM-Powered-NPCs\\.venv\\lib\\site-packages\\tf_keras\\src\\losses.py:2976: The name tf.losses.sparse_softmax_cross_entropy is deprecated. Please use tf.compat.v1.losses.sparse_softmax_cross_entropy instead.\n",
      "\n"
     ]
    },
    {
     "name": "stdout",
     "output_type": "stream",
     "text": [
      "24-10-28 22:55:40 - Found 5 newly added image(s), 0 removed image(s), 0 replaced image(s).\n"
     ]
    },
    {
     "name": "stderr",
     "output_type": "stream",
     "text": [
      "\r",
      "Finding representations:   0%|                                                              | 0/5 [00:00<?, ?it/s]"
     ]
    },
    {
     "name": "stderr",
     "output_type": "stream",
     "text": [
      "\r",
      "Finding representations:  20%|██████████▊                                           | 1/5 [00:04<00:16,  4.14s/it]"
     ]
    },
    {
     "name": "stderr",
     "output_type": "stream",
     "text": [
      "\r",
      "Finding representations:  40%|█████████████████████▌                                | 2/5 [00:05<00:07,  2.37s/it]"
     ]
    },
    {
     "name": "stderr",
     "output_type": "stream",
     "text": [
      "\r",
      "Finding representations:  60%|████████████████████████████████▍                     | 3/5 [00:06<00:04,  2.02s/it]"
     ]
    },
    {
     "name": "stderr",
     "output_type": "stream",
     "text": [
      "\r",
      "Finding representations:  80%|███████████████████████████████████████████▏          | 4/5 [00:07<00:01,  1.34s/it]"
     ]
    },
    {
     "name": "stderr",
     "output_type": "stream",
     "text": [
      "\r",
      "Finding representations: 100%|██████████████████████████████████████████████████████| 5/5 [00:07<00:00,  1.05it/s]"
     ]
    },
    {
     "name": "stderr",
     "output_type": "stream",
     "text": [
      "\r",
      "Finding representations: 100%|██████████████████████████████████████████████████████| 5/5 [00:07<00:00,  1.49s/it]"
     ]
    },
    {
     "name": "stderr",
     "output_type": "stream",
     "text": [
      "\n"
     ]
    },
    {
     "name": "stdout",
     "output_type": "stream",
     "text": [
      "24-10-28 22:55:47 - There are now 6 representations in ds_model_facenet512_detector_opencv_aligned_normalization_base_expand_0.pkl\n",
      "24-10-28 22:55:47 - Searching test.jpg in 6 length datastore\n"
     ]
    },
    {
     "name": "stdout",
     "output_type": "stream",
     "text": [
      "24-10-28 22:55:49 - find function duration 8.79950737953186 seconds\n"
     ]
    }
   ],
   "source": [
    "from deepface import DeepFace\n",
    "import json\n",
    "\n",
    "with open('config.json', 'r') as f:\n",
    "    config = json.load(f)\n",
    "    game_name = config['game_name']\n",
    "    character = config['characters'][0]\n",
    "    character_name = character['name']\n",
    "\n",
    "# Perform facial recognition\n",
    "dfs = DeepFace.find(\n",
    "    img_path=\"test.jpg\",\n",
    "    db_path=f\"{game_name}/characters/{character_name}/images\",\n",
    "    model_name='Facenet512'\n",
    ")"
   ]
  }
 ],
 "metadata": {
  "kernelspec": {
   "display_name": ".venv",
   "language": "python",
   "name": "python3"
  },
  "language_info": {
   "codemirror_mode": {
    "name": "ipython",
    "version": 3
   },
   "file_extension": ".py",
   "mimetype": "text/x-python",
   "name": "python",
   "nbconvert_exporter": "python",
   "pygments_lexer": "ipython3",
   "version": "3.10.6"
  },
  "papermill": {
   "default_parameters": {},
   "duration": 18.653885,
   "end_time": "2024-10-28T12:25:50.443641",
   "environment_variables": {},
   "exception": null,
   "input_path": "notebooks\\create_face_recognition_representation.ipynb",
   "output_path": "notebooks_output\\executed_create_face_recognition_representation.ipynb",
   "parameters": {},
   "start_time": "2024-10-28T12:25:31.789756",
   "version": "2.6.0"
  }
 },
 "nbformat": 4,
 "nbformat_minor": 5
}