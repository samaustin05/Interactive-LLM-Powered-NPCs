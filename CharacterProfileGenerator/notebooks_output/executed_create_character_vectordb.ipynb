{
 "cells": [
  {
   "attachments": {},
   "cell_type": "markdown",
   "id": "d346d492",
   "metadata": {
    "papermill": {
     "duration": 0.002,
     "end_time": "2024-10-28T02:21:27.028837",
     "exception": false,
     "start_time": "2024-10-28T02:21:27.026837",
     "status": "completed"
    },
    "tags": [
     "parameters"
    ]
   },
   "source": [
    "### Create Character Vector Database"
   ]
  },
  {
   "cell_type": "code",
   "execution_count": 1,
   "id": "05ae0de3",
   "metadata": {
    "execution": {
     "iopub.execute_input": "2024-10-28T02:21:27.033596Z",
     "iopub.status.busy": "2024-10-28T02:21:27.033596Z",
     "iopub.status.idle": "2024-10-28T02:21:44.284565Z",
     "shell.execute_reply": "2024-10-28T02:21:44.284565Z"
    },
    "papermill": {
     "duration": 17.253989,
     "end_time": "2024-10-28T02:21:44.285570",
     "exception": false,
     "start_time": "2024-10-28T02:21:27.031581",
     "status": "completed"
    },
    "tags": []
   },
   "outputs": [
    {
     "name": "stderr",
     "output_type": "stream",
     "text": [
      "C:\\Users\\samau\\AppData\\Local\\Temp\\ipykernel_7504\\2331195081.py:34: LangChainDeprecationWarning: The class `CohereEmbeddings` was deprecated in LangChain 0.0.30 and will be removed in 1.0. An updated version of the class exists in the :class:`~langchain-cohere package and should be used instead. To use it run `pip install -U :class:`~langchain-cohere` and import as `from :class:`~langchain_cohere import CohereEmbeddings``.\n",
      "  embeddings = CohereEmbeddings(cohere_api_key=selected_key, user_agent='CharacterProfileGenerator/1.0')\n"
     ]
    },
    {
     "name": "stdout",
     "output_type": "stream",
     "text": [
      "sagemaker.config INFO - Not applying SDK defaults from location: C:\\ProgramData\\sagemaker\\sagemaker\\config.yaml\n"
     ]
    },
    {
     "name": "stdout",
     "output_type": "stream",
     "text": [
      "sagemaker.config INFO - Not applying SDK defaults from location: C:\\Users\\samau\\AppData\\Local\\sagemaker\\sagemaker\\config.yaml\n"
     ]
    },
    {
     "name": "stderr",
     "output_type": "stream",
     "text": [
      "C:\\Users\\samau\\AppData\\Local\\Temp\\ipykernel_7504\\2331195081.py:41: LangChainDeprecationWarning: Since Chroma 0.4.x the manual persistence method is no longer supported as docs are automatically persisted.\n",
      "  vectordb.persist()\n"
     ]
    }
   ],
   "source": [
    "# Import necessary modules\n",
    "from langchain.text_splitter import RecursiveCharacterTextSplitter\n",
    "from langchain.embeddings import CohereEmbeddings\n",
    "import json\n",
    "import random\n",
    "from langchain.vectorstores import Chroma\n",
    "\n",
    "with open('config.json', 'r') as f:\n",
    "    config = json.load(f)\n",
    "    game_name = config['game_name']\n",
    "    character = config['characters'][0]\n",
    "    character_name = character['name']\n",
    "\n",
    "# Load the character's knowledge file\n",
    "with open(f'{game_name}/characters/{character_name}/character_knowledge.txt', errors='ignore') as f:\n",
    "    public_info = f.read()\n",
    "\n",
    "# Create a text splitter\n",
    "text_splitter = RecursiveCharacterTextSplitter(\n",
    "    chunk_size=600,\n",
    "    chunk_overlap=0,\n",
    "    length_function=len,\n",
    "    separators=['\\n\\n\\n', '\\n\\n', '\\n', '.', ',', ' ']\n",
    ")\n",
    "\n",
    "# Split the text\n",
    "public_info_list = text_splitter.split_text(public_info)\n",
    "\n",
    "# Randomly select an API key\n",
    "selected_key = json.load(open('apikeys.json', 'r'))['api_keys'][random.randint(\n",
    "    0, len(json.load(open('apikeys.json', 'r'))['api_keys'])-1)]\n",
    "\n",
    "# Initialize the embedding model\n",
    "embeddings = CohereEmbeddings(cohere_api_key=selected_key, user_agent='CharacterProfileGenerator/1.0')\n",
    "\n",
    "# Set the persist directory\n",
    "persist_directory = f'{game_name}/characters/{character_name}/vectordb'\n",
    "\n",
    "# Create and persist the vector database\n",
    "vectordb = Chroma.from_texts(public_info_list, embeddings, persist_directory=persist_directory)\n",
    "vectordb.persist()\n"
   ]
  }
 ],
 "metadata": {
  "kernelspec": {
   "display_name": ".venv",
   "language": "python",
   "name": "python3"
  },
  "language_info": {
   "codemirror_mode": {
    "name": "ipython",
    "version": 3
   },
   "file_extension": ".py",
   "mimetype": "text/x-python",
   "name": "python",
   "nbconvert_exporter": "python",
   "pygments_lexer": "ipython3",
   "version": "3.10.6"
  },
  "papermill": {
   "default_parameters": {},
   "duration": 20.759887,
   "end_time": "2024-10-28T02:21:45.724647",
   "environment_variables": {},
   "exception": null,
   "input_path": "notebooks\\create_character_vectordb.ipynb",
   "output_path": "notebooks_output\\executed_create_character_vectordb.ipynb",
   "parameters": {},
   "start_time": "2024-10-28T02:21:24.964760",
   "version": "2.6.0"
  }
 },
 "nbformat": 4,
 "nbformat_minor": 5
}