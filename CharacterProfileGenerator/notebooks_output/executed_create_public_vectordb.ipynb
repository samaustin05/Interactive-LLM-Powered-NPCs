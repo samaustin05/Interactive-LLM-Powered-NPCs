{
 "cells": [
  {
   "attachments": {},
   "cell_type": "markdown",
   "id": "c8753de3",
   "metadata": {
    "papermill": {
     "duration": 0.002,
     "end_time": "2024-10-28T12:25:51.784648",
     "exception": false,
     "start_time": "2024-10-28T12:25:51.782648",
     "status": "completed"
    },
    "tags": []
   },
   "source": [
    "### Create Public Vector Database"
   ]
  },
  {
   "cell_type": "code",
   "execution_count": 1,
   "id": "b143d29a",
   "metadata": {
    "execution": {
     "iopub.execute_input": "2024-10-28T12:25:51.787709Z",
     "iopub.status.busy": "2024-10-28T12:25:51.787709Z",
     "iopub.status.idle": "2024-10-28T12:26:09.854916Z",
     "shell.execute_reply": "2024-10-28T12:26:09.853914Z"
    },
    "papermill": {
     "duration": 18.070267,
     "end_time": "2024-10-28T12:26:09.855916",
     "exception": false,
     "start_time": "2024-10-28T12:25:51.785649",
     "status": "completed"
    },
    "tags": []
   },
   "outputs": [
    {
     "name": "stderr",
     "output_type": "stream",
     "text": [
      "C:\\Users\\samau\\AppData\\Local\\Temp\\ipykernel_19328\\1324439711.py:34: LangChainDeprecationWarning: The class `CohereEmbeddings` was deprecated in LangChain 0.0.30 and will be removed in 1.0. An updated version of the class exists in the :class:`~langchain-cohere package and should be used instead. To use it run `pip install -U :class:`~langchain-cohere` and import as `from :class:`~langchain_cohere import CohereEmbeddings``.\n",
      "  embeddings = CohereEmbeddings(\n"
     ]
    },
    {
     "name": "stdout",
     "output_type": "stream",
     "text": [
      "sagemaker.config INFO - Not applying SDK defaults from location: C:\\ProgramData\\sagemaker\\sagemaker\\config.yaml\n"
     ]
    },
    {
     "name": "stdout",
     "output_type": "stream",
     "text": [
      "sagemaker.config INFO - Not applying SDK defaults from location: C:\\Users\\samau\\AppData\\Local\\sagemaker\\sagemaker\\config.yaml\n"
     ]
    },
    {
     "name": "stderr",
     "output_type": "stream",
     "text": [
      "C:\\Users\\samau\\AppData\\Local\\Temp\\ipykernel_19328\\1324439711.py:45: LangChainDeprecationWarning: Since Chroma 0.4.x the manual persistence method is no longer supported as docs are automatically persisted.\n",
      "  vectordb.persist()\n"
     ]
    }
   ],
   "source": [
    "from langchain.text_splitter import RecursiveCharacterTextSplitter\n",
    "from langchain.embeddings import CohereEmbeddings\n",
    "import json\n",
    "import random\n",
    "from langchain.vectorstores import Chroma\n",
    "\n",
    "with open('config.json', 'r') as f:\n",
    "    config = json.load(f)\n",
    "    game_name = config['game_name']\n",
    "    character = config['characters'][0]\n",
    "    character_name = character['name']\n",
    "\n",
    "# Load the public information file\n",
    "with open(f'{game_name}/public_info.txt', errors='ignore') as f:\n",
    "    public_info = f.read()\n",
    "\n",
    "# Create a text splitter\n",
    "text_splitter = RecursiveCharacterTextSplitter(\n",
    "    chunk_size=1500,\n",
    "    chunk_overlap=500,\n",
    "    length_function=len,\n",
    "    separators=['\\n\\n\\n', '\\n\\n', '\\n', '.', ',', ' ']\n",
    ")\n",
    "\n",
    "# Split the text\n",
    "public_info_list = text_splitter.split_text(public_info)\n",
    "\n",
    "# Randomly select an API key from apikeys.json\n",
    "with open('apikeys.json', 'r') as f:\n",
    "    api_keys = json.load(f)['api_keys']\n",
    "selected_key = api_keys[random.randint(0, len(api_keys) - 1)]\n",
    "\n",
    "# Initialize the Cohere embedding model with user agent fallback\n",
    "embeddings = CohereEmbeddings(\n",
    "    cohere_api_key=selected_key, \n",
    "    model=\"large\",  # Specify model size\n",
    "    user_agent=\"CharacterProfileGenerator/1.0\"  # Set user agent\n",
    ")\n",
    "\n",
    "# Set the persist directory\n",
    "persist_directory = f'{game_name}/public_vectordb'\n",
    "\n",
    "# Create and persist the vector database\n",
    "vectordb = Chroma.from_texts(public_info_list, embeddings, persist_directory=persist_directory)\n",
    "vectordb.persist()\n"
   ]
  }
 ],
 "metadata": {
  "kernelspec": {
   "display_name": ".venv",
   "language": "python",
   "name": "python3"
  },
  "language_info": {
   "codemirror_mode": {
    "name": "ipython",
    "version": 3
   },
   "file_extension": ".py",
   "mimetype": "text/x-python",
   "name": "python",
   "nbconvert_exporter": "python",
   "pygments_lexer": "ipython3",
   "version": "3.10.6"
  },
  "papermill": {
   "default_parameters": {},
   "duration": 20.954392,
   "end_time": "2024-10-28T12:26:11.403091",
   "environment_variables": {},
   "exception": null,
   "input_path": "notebooks\\create_public_vectordb.ipynb",
   "output_path": "notebooks_output\\executed_create_public_vectordb.ipynb",
   "parameters": {},
   "start_time": "2024-10-28T12:25:50.448699",
   "version": "2.6.0"
  }
 },
 "nbformat": 4,
 "nbformat_minor": 5
}