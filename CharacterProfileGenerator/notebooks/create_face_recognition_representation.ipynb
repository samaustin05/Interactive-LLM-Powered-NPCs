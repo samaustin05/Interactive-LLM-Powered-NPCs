{
 "cells": [
  {
   "attachments": {},
   "cell_type": "markdown",
   "metadata": {},
   "source": [
    "### Place 5 images in the Game/characters/character_name/images folder from 1.jpg to 5.jpg and one image in root directory named as test.jpg"
   ]
  },
  {
   "cell_type": "code",
   "execution_count": 1,
   "metadata": {},
   "outputs": [
    {
     "name": "stderr",
     "output_type": "stream",
     "text": [
      "Finding representations: 100%|██████████| 5/5 [00:10<00:00,  2.14s/it]\n"
     ]
    },
    {
     "name": "stdout",
     "output_type": "stream",
     "text": [
      "Representations stored in Cyberpunk_2077/characters/Johnny_Silverhand/images/representations_facenet512.pkl file.Please delete this file when you add new identities in your database.\n",
      "find function lasts  10.94593071937561  seconds\n"
     ]
    }
   ],
   "source": [
    "from deepface import DeepFace\n",
    "import json\n",
    "\n",
    "with open('config.json', 'r') as f:\n",
    "    config = json.load(f)\n",
    "    game_name = config['game_name']\n",
    "    character = config['characters'][0]\n",
    "    character_name = character['name']\n",
    "\n",
    "# Perform facial recognition\n",
    "dfs = DeepFace.find(\n",
    "    img_path=\"test.jpg\",\n",
    "    db_path=f\"{game_name}/characters/{character_name}/images\",\n",
    "    model_name='Facenet512'\n",
    ")"
   ]
  }
 ],
 "metadata": {
  "kernelspec": {
   "display_name": ".venv",
   "language": "python",
   "name": "python3"
  },
  "language_info": {
   "codemirror_mode": {
    "name": "ipython",
    "version": 3
   },
   "file_extension": ".py",
   "mimetype": "text/x-python",
   "name": "python",
   "nbconvert_exporter": "python",
   "pygments_lexer": "ipython3",
   "version": "3.10.6"
  },
  "orig_nbformat": 4
 },
 "nbformat": 4,
 "nbformat_minor": 2
}
