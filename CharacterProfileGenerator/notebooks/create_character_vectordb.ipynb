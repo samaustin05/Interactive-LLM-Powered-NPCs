{
 "cells": [
  {
   "attachments": {},
   "cell_type": "markdown",
   "metadata": {
    "tags": [
     "parameters"
    ]
   },
   "source": [
    "### Create Character Vector Database"
   ]
  },
  {
   "cell_type": "code",
   "execution_count": 3,
   "metadata": {},
   "outputs": [],
   "source": [
    "# Import necessary modules\n",
    "from langchain.text_splitter import RecursiveCharacterTextSplitter\n",
    "from langchain.embeddings import CohereEmbeddings\n",
    "import json\n",
    "import random\n",
    "from langchain.vectorstores import Chroma\n",
    "\n",
    "with open('config.json', 'r') as f:\n",
    "    config = json.load(f)\n",
    "    game_name = config['game_name']\n",
    "    character = config['characters'][0]\n",
    "    character_name = character['name']\n",
    "\n",
    "# Load the character's knowledge file\n",
    "with open(f'{game_name}/characters/{character_name}/character_knowledge.txt', errors='ignore') as f:\n",
    "    public_info = f.read()\n",
    "\n",
    "# Create a text splitter\n",
    "text_splitter = RecursiveCharacterTextSplitter(\n",
    "    chunk_size=600,\n",
    "    chunk_overlap=0,\n",
    "    length_function=len,\n",
    "    separators=['\\n\\n\\n', '\\n\\n', '\\n', '.', ',', ' ']\n",
    ")\n",
    "\n",
    "# Split the text\n",
    "public_info_list = text_splitter.split_text(public_info)\n",
    "\n",
    "# Randomly select an API key\n",
    "selected_key = json.load(open('apikeys.json', 'r'))['api_keys'][random.randint(\n",
    "    0, len(json.load(open('apikeys.json', 'r'))['api_keys'])-1)]\n",
    "\n",
    "# Initialize the embedding model\n",
    "embeddings = CohereEmbeddings(cohere_api_key=selected_key, user_agent='CharacterProfileGenerator/1.0')\n",
    "\n",
    "# Set the persist directory\n",
    "persist_directory = f'{game_name}/characters/{character_name}/vectordb'\n",
    "\n",
    "# Create and persist the vector database\n",
    "vectordb = Chroma.from_texts(public_info_list, embeddings, persist_directory=persist_directory)\n",
    "vectordb.persist()\n"
   ]
  }
 ],
 "metadata": {
  "kernelspec": {
   "display_name": ".venv",
   "language": "python",
   "name": "python3"
  },
  "language_info": {
   "codemirror_mode": {
    "name": "ipython",
    "version": 3
   },
   "file_extension": ".py",
   "mimetype": "text/x-python",
   "name": "python",
   "nbconvert_exporter": "python",
   "pygments_lexer": "ipython3",
   "version": "3.10.6"
  },
  "orig_nbformat": 4
 },
 "nbformat": 4,
 "nbformat_minor": 2
}
